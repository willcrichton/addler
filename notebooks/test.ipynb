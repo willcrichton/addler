{
 "cells": [
  {
   "cell_type": "code",
   "execution_count": 1,
   "metadata": {
    "ExecuteTime": {
     "end_time": "2020-03-18T00:16:05.336898Z",
     "start_time": "2020-03-18T00:16:05.313713Z"
    }
   },
   "outputs": [],
   "source": [
    "%load_ext autoreload\n",
    "%autoreload 2"
   ]
  },
  {
   "cell_type": "code",
   "execution_count": 2,
   "metadata": {
    "ExecuteTime": {
     "end_time": "2020-03-18T00:16:06.115619Z",
     "start_time": "2020-03-18T00:16:05.694990Z"
    }
   },
   "outputs": [],
   "source": [
    "from inliner import Inliner\n",
    "from test import foo\n",
    "import libcst as cst\n"
   ]
  },
  {
   "cell_type": "code",
   "execution_count": 3,
   "metadata": {
    "ExecuteTime": {
     "end_time": "2020-03-18T00:16:06.155173Z",
     "start_time": "2020-03-18T00:16:06.144748Z"
    }
   },
   "outputs": [],
   "source": [
    "def a():\n",
    "    if foo(1) == 3:\n",
    "        assert True"
   ]
  },
  {
   "cell_type": "code",
   "execution_count": 4,
   "metadata": {
    "ExecuteTime": {
     "end_time": "2020-03-18T00:16:06.684611Z",
     "start_time": "2020-03-18T00:16:06.579024Z"
    },
    "scrolled": false
   },
   "outputs": [
    {
     "name": "stdout",
     "output_type": "stream",
     "text": [
      "\n",
      "# foo(1)\n",
      "x___foo = 1\n",
      "y = x___foo + 1\n",
      "if \"foo_ret\" not in globals():\n",
      "    foo_ret = y + 1\n",
      "if foo_ret == 3:\n",
      "    assert True\n"
     ]
    }
   ],
   "source": [
    "i = Inliner(a)\n",
    "i.inline(['test'])\n",
    "print(i.module.code)"
   ]
  },
  {
   "cell_type": "code",
   "execution_count": 26,
   "metadata": {
    "ExecuteTime": {
     "end_time": "2020-03-20T22:24:01.371776Z",
     "start_time": "2020-03-20T22:24:01.355610Z"
    }
   },
   "outputs": [
    {
     "name": "stdout",
     "output_type": "stream",
     "text": [
      "b\n",
      "c\n"
     ]
    }
   ],
   "source": [
    "try:\n",
    "    pass\n",
    "except KeyError:\n",
    "    print('a')\n",
    "else:\n",
    "    print('b')\n",
    "finally:\n",
    "    print('c')"
   ]
  },
  {
   "cell_type": "code",
   "execution_count": 24,
   "metadata": {
    "ExecuteTime": {
     "end_time": "2020-03-20T22:23:13.933097Z",
     "start_time": "2020-03-20T22:23:13.914030Z"
    },
    "scrolled": false
   },
   "outputs": [
    {
     "data": {
      "text/plain": [
       "Try(\n",
       "    body=IndentedBlock(\n",
       "        body=[\n",
       "            SimpleStatementLine(\n",
       "                body=[\n",
       "                    Pass(\n",
       "                        semicolon=MaybeSentinel.DEFAULT,\n",
       "                    ),\n",
       "                ],\n",
       "                leading_lines=[],\n",
       "                trailing_whitespace=TrailingWhitespace(\n",
       "                    whitespace=SimpleWhitespace(\n",
       "                        value='',\n",
       "                    ),\n",
       "                    comment=None,\n",
       "                    newline=Newline(\n",
       "                        value=None,\n",
       "                    ),\n",
       "                ),\n",
       "            ),\n",
       "        ],\n",
       "        header=TrailingWhitespace(\n",
       "            whitespace=SimpleWhitespace(\n",
       "                value='',\n",
       "            ),\n",
       "            comment=None,\n",
       "            newline=Newline(\n",
       "                value=None,\n",
       "            ),\n",
       "        ),\n",
       "        indent=None,\n",
       "        footer=[],\n",
       "    ),\n",
       "    handlers=[\n",
       "        ExceptHandler(\n",
       "            body=IndentedBlock(\n",
       "                body=[\n",
       "                    SimpleStatementLine(\n",
       "                        body=[\n",
       "                            Pass(\n",
       "                                semicolon=MaybeSentinel.DEFAULT,\n",
       "                            ),\n",
       "                        ],\n",
       "                        leading_lines=[],\n",
       "                        trailing_whitespace=TrailingWhitespace(\n",
       "                            whitespace=SimpleWhitespace(\n",
       "                                value='',\n",
       "                            ),\n",
       "                            comment=None,\n",
       "                            newline=Newline(\n",
       "                                value=None,\n",
       "                            ),\n",
       "                        ),\n",
       "                    ),\n",
       "                ],\n",
       "                header=TrailingWhitespace(\n",
       "                    whitespace=SimpleWhitespace(\n",
       "                        value='',\n",
       "                    ),\n",
       "                    comment=None,\n",
       "                    newline=Newline(\n",
       "                        value=None,\n",
       "                    ),\n",
       "                ),\n",
       "                indent=None,\n",
       "                footer=[],\n",
       "            ),\n",
       "            type=None,\n",
       "            name=None,\n",
       "            leading_lines=[],\n",
       "            whitespace_after_except=SimpleWhitespace(\n",
       "                value='',\n",
       "            ),\n",
       "            whitespace_before_colon=SimpleWhitespace(\n",
       "                value='',\n",
       "            ),\n",
       "        ),\n",
       "    ],\n",
       "    orelse=Else(\n",
       "        body=IndentedBlock(\n",
       "            body=[\n",
       "                SimpleStatementLine(\n",
       "                    body=[\n",
       "                        Pass(\n",
       "                            semicolon=MaybeSentinel.DEFAULT,\n",
       "                        ),\n",
       "                    ],\n",
       "                    leading_lines=[],\n",
       "                    trailing_whitespace=TrailingWhitespace(\n",
       "                        whitespace=SimpleWhitespace(\n",
       "                            value='',\n",
       "                        ),\n",
       "                        comment=None,\n",
       "                        newline=Newline(\n",
       "                            value=None,\n",
       "                        ),\n",
       "                    ),\n",
       "                ),\n",
       "            ],\n",
       "            header=TrailingWhitespace(\n",
       "                whitespace=SimpleWhitespace(\n",
       "                    value='',\n",
       "                ),\n",
       "                comment=None,\n",
       "                newline=Newline(\n",
       "                    value=None,\n",
       "                ),\n",
       "            ),\n",
       "            indent=None,\n",
       "            footer=[],\n",
       "        ),\n",
       "        leading_lines=[],\n",
       "        whitespace_before_colon=SimpleWhitespace(\n",
       "            value='',\n",
       "        ),\n",
       "    ),\n",
       "    finalbody=Finally(\n",
       "        body=IndentedBlock(\n",
       "            body=[\n",
       "                SimpleStatementLine(\n",
       "                    body=[\n",
       "                        Pass(\n",
       "                            semicolon=MaybeSentinel.DEFAULT,\n",
       "                        ),\n",
       "                    ],\n",
       "                    leading_lines=[],\n",
       "                    trailing_whitespace=TrailingWhitespace(\n",
       "                        whitespace=SimpleWhitespace(\n",
       "                            value='',\n",
       "                        ),\n",
       "                        comment=None,\n",
       "                        newline=Newline(\n",
       "                            value=None,\n",
       "                        ),\n",
       "                    ),\n",
       "                ),\n",
       "            ],\n",
       "            header=TrailingWhitespace(\n",
       "                whitespace=SimpleWhitespace(\n",
       "                    value='',\n",
       "                ),\n",
       "                comment=None,\n",
       "                newline=Newline(\n",
       "                    value=None,\n",
       "                ),\n",
       "            ),\n",
       "            indent=None,\n",
       "            footer=[\n",
       "                EmptyLine(\n",
       "                    indent=True,\n",
       "                    whitespace=SimpleWhitespace(\n",
       "                        value=' ',\n",
       "                    ),\n",
       "                    comment=None,\n",
       "                    newline=Newline(\n",
       "                        value=None,\n",
       "                    ),\n",
       "                ),\n",
       "            ],\n",
       "        ),\n",
       "        leading_lines=[],\n",
       "        whitespace_before_colon=SimpleWhitespace(\n",
       "            value='',\n",
       "        ),\n",
       "    ),\n",
       "    leading_lines=[\n",
       "        EmptyLine(\n",
       "            indent=True,\n",
       "            whitespace=SimpleWhitespace(\n",
       "                value='',\n",
       "            ),\n",
       "            comment=None,\n",
       "            newline=Newline(\n",
       "                value=None,\n",
       "            ),\n",
       "        ),\n",
       "    ],\n",
       "    whitespace_before_colon=SimpleWhitespace(\n",
       "        value='',\n",
       "    ),\n",
       ")"
      ]
     },
     "execution_count": 24,
     "metadata": {},
     "output_type": "execute_result"
    }
   ],
   "source": [
    "cst.parse_statement(\"\"\"\n",
    "try:\n",
    " pass\n",
    "except:\n",
    " pass\n",
    "else:\n",
    " pass\n",
    "finally:\n",
    " pass\n",
    "  \"\"\")"
   ]
  },
  {
   "cell_type": "code",
   "execution_count": 18,
   "metadata": {
    "ExecuteTime": {
     "end_time": "2020-03-20T18:40:14.519915Z",
     "start_time": "2020-03-20T18:40:14.451851Z"
    }
   },
   "outputs": [
    {
     "name": "stdout",
     "output_type": "stream",
     "text": [
      "  3           0 LOAD_NAME                0 (__file__)\n",
      "              2 POP_TOP\n",
      "\n",
      "  4           4 LOAD_CONST               0 (1)\n",
      "              6 STORE_NAME               1 (y)\n",
      "              8 LOAD_CONST               1 (None)\n",
      "             10 RETURN_VALUE\n"
     ]
    }
   ],
   "source": [
    "import dis\n",
    "code = compile(\"\"\"\n",
    "if True:\n",
    "  __file__\n",
    "  y = 1\n",
    "else:\n",
    "  y = 2\"\"\", \"\", \"exec\") \n",
    "dis.dis(code)"
   ]
  },
  {
   "cell_type": "code",
   "execution_count": 43,
   "metadata": {
    "ExecuteTime": {
     "end_time": "2020-03-17T01:32:28.998565Z",
     "start_time": "2020-03-17T01:32:28.984150Z"
    }
   },
   "outputs": [
    {
     "data": {
      "text/plain": [
       "<function __main__.Foo.a(self)>"
      ]
     },
     "execution_count": 43,
     "metadata": {},
     "output_type": "execute_result"
    }
   ],
   "source": [
    "class Foo:\n",
    "    def a(self):\n",
    "        pass\n",
    "    \n",
    "Foo().a.__func__"
   ]
  },
  {
   "cell_type": "code",
   "execution_count": 65,
   "metadata": {
    "ExecuteTime": {
     "end_time": "2020-03-17T21:18:08.180943Z",
     "start_time": "2020-03-17T21:18:08.121601Z"
    },
    "scrolled": false
   },
   "outputs": [
    {
     "data": {
      "text/plain": [
       "List(\n",
       "    elements=[\n",
       "        Element(\n",
       "            value=Integer(\n",
       "                value='1',\n",
       "                lpar=[],\n",
       "                rpar=[],\n",
       "            ),\n",
       "            comma=Comma(\n",
       "                whitespace_before=SimpleWhitespace(\n",
       "                    value='',\n",
       "                ),\n",
       "                whitespace_after=SimpleWhitespace(\n",
       "                    value=' ',\n",
       "                ),\n",
       "            ),\n",
       "        ),\n",
       "        Element(\n",
       "            value=Integer(\n",
       "                value='2',\n",
       "                lpar=[],\n",
       "                rpar=[],\n",
       "            ),\n",
       "            comma=MaybeSentinel.DEFAULT,\n",
       "        ),\n",
       "    ],\n",
       "    lbracket=LeftSquareBracket(\n",
       "        whitespace_after=SimpleWhitespace(\n",
       "            value='',\n",
       "        ),\n",
       "    ),\n",
       "    rbracket=RightSquareBracket(\n",
       "        whitespace_before=SimpleWhitespace(\n",
       "            value='',\n",
       "        ),\n",
       "    ),\n",
       "    lpar=[],\n",
       "    rpar=[],\n",
       ")"
      ]
     },
     "execution_count": 65,
     "metadata": {},
     "output_type": "execute_result"
    }
   ],
   "source": [
    "cst.parse_expression('[1, 2]')"
   ]
  }
 ],
 "metadata": {
  "kernelspec": {
   "display_name": "Python 3",
   "language": "python",
   "name": "python3"
  },
  "language_info": {
   "codemirror_mode": {
    "name": "ipython",
    "version": 3
   },
   "file_extension": ".py",
   "mimetype": "text/x-python",
   "name": "python",
   "nbconvert_exporter": "python",
   "pygments_lexer": "ipython3",
   "version": "3.7.3"
  },
  "toc": {
   "base_numbering": 1,
   "nav_menu": {},
   "number_sections": true,
   "sideBar": true,
   "skip_h1_title": false,
   "title_cell": "Table of Contents",
   "title_sidebar": "Contents",
   "toc_cell": false,
   "toc_position": {},
   "toc_section_display": true,
   "toc_window_display": false
  },
  "varInspector": {
   "cols": {
    "lenName": 16,
    "lenType": 16,
    "lenVar": 40
   },
   "kernels_config": {
    "python": {
     "delete_cmd_postfix": "",
     "delete_cmd_prefix": "del ",
     "library": "var_list.py",
     "varRefreshCmd": "print(var_dic_list())"
    },
    "r": {
     "delete_cmd_postfix": ") ",
     "delete_cmd_prefix": "rm(",
     "library": "var_list.r",
     "varRefreshCmd": "cat(var_dic_list()) "
    }
   },
   "types_to_exclude": [
    "module",
    "function",
    "builtin_function_or_method",
    "instance",
    "_Feature"
   ],
   "window_display": false
  }
 },
 "nbformat": 4,
 "nbformat_minor": 2
}
