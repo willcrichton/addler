{
 "cells": [
  {
   "cell_type": "code",
   "execution_count": 17,
   "metadata": {
    "ExecuteTime": {
     "end_time": "2020-03-16T20:03:49.377327Z",
     "start_time": "2020-03-16T20:03:49.331272Z"
    }
   },
   "outputs": [
    {
     "name": "stdout",
     "output_type": "stream",
     "text": [
      "The autoreload extension is already loaded. To reload it, use:\n",
      "  %reload_ext autoreload\n"
     ]
    }
   ],
   "source": [
    "%load_ext autoreload\n",
    "%autoreload 2"
   ]
  },
  {
   "cell_type": "code",
   "execution_count": 18,
   "metadata": {
    "ExecuteTime": {
     "end_time": "2020-03-16T20:03:49.920480Z",
     "start_time": "2020-03-16T20:03:49.909859Z"
    }
   },
   "outputs": [],
   "source": [
    "from inliner import Inliner\n",
    "from test import foo\n",
    "import libcst as cst\n"
   ]
  },
  {
   "cell_type": "code",
   "execution_count": 19,
   "metadata": {
    "ExecuteTime": {
     "end_time": "2020-03-16T20:03:50.462362Z",
     "start_time": "2020-03-16T20:03:50.451242Z"
    }
   },
   "outputs": [],
   "source": [
    "def a():\n",
    "    if foo(1) == 3:\n",
    "        assert True"
   ]
  },
  {
   "cell_type": "code",
   "execution_count": 20,
   "metadata": {
    "ExecuteTime": {
     "end_time": "2020-03-16T20:03:50.988470Z",
     "start_time": "2020-03-16T20:03:50.969502Z"
    },
    "scrolled": false
   },
   "outputs": [
    {
     "name": "stdout",
     "output_type": "stream",
     "text": [
      "\n",
      "# foo(1)\n",
      "x___foo = 1\n",
      "y = x___foo + 1\n",
      "\n",
      "if \"foo_ret\" not in globals():\n",
      "    foo_ret = y + 1\n",
      "if foo_ret == 3:\n",
      "    assert True\n",
      "\n"
     ]
    }
   ],
   "source": [
    "i = Inliner(a)\n",
    "i.inline(['test'])\n",
    "print(i.module.code)"
   ]
  },
  {
   "cell_type": "code",
   "execution_count": 24,
   "metadata": {
    "ExecuteTime": {
     "end_time": "2020-03-16T20:53:48.848664Z",
     "start_time": "2020-03-16T20:53:48.806914Z"
    }
   },
   "outputs": [
    {
     "data": {
      "text/plain": [
       "Dict(\n",
       "    elements=[\n",
       "        DictElement(\n",
       "            key=SimpleString(\n",
       "                value='\"a\"',\n",
       "                lpar=[],\n",
       "                rpar=[],\n",
       "            ),\n",
       "            value=Integer(\n",
       "                value='1',\n",
       "                lpar=[],\n",
       "                rpar=[],\n",
       "            ),\n",
       "            comma=MaybeSentinel.DEFAULT,\n",
       "            whitespace_before_colon=SimpleWhitespace(\n",
       "                value='',\n",
       "            ),\n",
       "            whitespace_after_colon=SimpleWhitespace(\n",
       "                value=' ',\n",
       "            ),\n",
       "        ),\n",
       "    ],\n",
       "    lbrace=LeftCurlyBrace(\n",
       "        whitespace_after=SimpleWhitespace(\n",
       "            value='',\n",
       "        ),\n",
       "    ),\n",
       "    rbrace=RightCurlyBrace(\n",
       "        whitespace_before=SimpleWhitespace(\n",
       "            value='',\n",
       "        ),\n",
       "    ),\n",
       "    lpar=[],\n",
       "    rpar=[],\n",
       ")"
      ]
     },
     "execution_count": 24,
     "metadata": {},
     "output_type": "execute_result"
    }
   ],
   "source": [
    "cst.parse_expression('{\"a\": 1}')"
   ]
  },
  {
   "cell_type": "code",
   "execution_count": 16,
   "metadata": {
    "ExecuteTime": {
     "end_time": "2020-03-16T20:02:37.971350Z",
     "start_time": "2020-03-16T20:02:37.898056Z"
    }
   },
   "outputs": [
    {
     "data": {
      "text/plain": [
       "SimpleStatementLine(\n",
       "    body=[\n",
       "        Assign(\n",
       "            targets=[\n",
       "                AssignTarget(\n",
       "                    target=Name(\n",
       "                        value='x',\n",
       "                        lpar=[],\n",
       "                        rpar=[],\n",
       "                    ),\n",
       "                    whitespace_before_equal=SimpleWhitespace(\n",
       "                        value=' ',\n",
       "                    ),\n",
       "                    whitespace_after_equal=SimpleWhitespace(\n",
       "                        value=' ',\n",
       "                    ),\n",
       "                ),\n",
       "            ],\n",
       "            value=Integer(\n",
       "                value='1',\n",
       "                lpar=[],\n",
       "                rpar=[],\n",
       "            ),\n",
       "            semicolon=MaybeSentinel.DEFAULT,\n",
       "        ),\n",
       "    ],\n",
       "    leading_lines=[],\n",
       "    trailing_whitespace=TrailingWhitespace(\n",
       "        whitespace=SimpleWhitespace(\n",
       "            value='',\n",
       "        ),\n",
       "        comment=None,\n",
       "        newline=Newline(\n",
       "            value=None,\n",
       "        ),\n",
       "    ),\n",
       ")"
      ]
     },
     "execution_count": 16,
     "metadata": {},
     "output_type": "execute_result"
    }
   ],
   "source": [
    "cst.parse_statement('x = 1')"
   ]
  }
 ],
 "metadata": {
  "kernelspec": {
   "display_name": "Python 3",
   "language": "python",
   "name": "python3"
  },
  "language_info": {
   "codemirror_mode": {
    "name": "ipython",
    "version": 3
   },
   "file_extension": ".py",
   "mimetype": "text/x-python",
   "name": "python",
   "nbconvert_exporter": "python",
   "pygments_lexer": "ipython3",
   "version": "3.7.3"
  },
  "toc": {
   "base_numbering": 1,
   "nav_menu": {},
   "number_sections": true,
   "sideBar": true,
   "skip_h1_title": false,
   "title_cell": "Table of Contents",
   "title_sidebar": "Contents",
   "toc_cell": false,
   "toc_position": {},
   "toc_section_display": true,
   "toc_window_display": false
  },
  "varInspector": {
   "cols": {
    "lenName": 16,
    "lenType": 16,
    "lenVar": 40
   },
   "kernels_config": {
    "python": {
     "delete_cmd_postfix": "",
     "delete_cmd_prefix": "del ",
     "library": "var_list.py",
     "varRefreshCmd": "print(var_dic_list())"
    },
    "r": {
     "delete_cmd_postfix": ") ",
     "delete_cmd_prefix": "rm(",
     "library": "var_list.r",
     "varRefreshCmd": "cat(var_dic_list()) "
    }
   },
   "types_to_exclude": [
    "module",
    "function",
    "builtin_function_or_method",
    "instance",
    "_Feature"
   ],
   "window_display": false
  }
 },
 "nbformat": 4,
 "nbformat_minor": 2
}
